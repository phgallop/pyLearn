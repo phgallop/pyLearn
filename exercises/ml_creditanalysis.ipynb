{
  "nbformat": 4,
  "nbformat_minor": 0,
  "metadata": {
    "kernelspec": {
      "display_name": "Python 3",
      "language": "python",
      "name": "python3"
    },
    "language_info": {
      "codemirror_mode": {
        "name": "ipython",
        "version": 3
      },
      "file_extension": ".py",
      "mimetype": "text/x-python",
      "name": "python",
      "nbconvert_exporter": "python",
      "pygments_lexer": "ipython3",
      "version": "3.5.2"
    },
    "colab": {
      "provenance": [],
      "include_colab_link": true
    }
  },
  "cells": [
    {
      "cell_type": "markdown",
      "metadata": {
        "id": "view-in-github",
        "colab_type": "text"
      },
      "source": [
        "<a href=\"https://colab.research.google.com/github/phgallop/pyLearn/blob/main/ml_creditanalysis.ipynb\" target=\"_parent\"><img src=\"https://colab.research.google.com/assets/colab-badge.svg\" alt=\"Open In Colab\"/></a>"
      ]
    },
    {
      "cell_type": "code",
      "metadata": {
        "deletable": true,
        "editable": true,
        "id": "e1YQ6F2oha-r"
      },
      "source": [
        "# importando as bibliotecas utilizadas\n",
        "import pandas as pd\n",
        "from sklearn.feature_extraction.text import CountVectorizer\n",
        "from sklearn.naive_bayes import MultinomialNB"
      ],
      "execution_count": null,
      "outputs": []
    },
    {
      "cell_type": "markdown",
      "metadata": {
        "collapsed": true,
        "deletable": true,
        "editable": true,
        "id": "6wB5eeYSha-v"
      },
      "source": [
        "# Etapa 1: Ler o dataset"
      ]
    },
    {
      "cell_type": "code",
      "metadata": {
        "deletable": true,
        "editable": true,
        "id": "npr8JeEUha-w",
        "outputId": "2e28f3b7-708d-458a-ad63-8b1c52961a78",
        "colab": {
          "base_uri": "https://localhost:8080/",
          "height": 204
        }
      },
      "source": [
        "dataset = pd.read_csv('TopEsp_Desafio3_Aula1-ExemploRiscoCredito.csv',sep=';', encoding='latin-1')\n",
        "dataset.head()"
      ],
      "execution_count": null,
      "outputs": [
        {
          "output_type": "execute_result",
          "data": {
            "text/html": [
              "<div>\n",
              "<style scoped>\n",
              "    .dataframe tbody tr th:only-of-type {\n",
              "        vertical-align: middle;\n",
              "    }\n",
              "\n",
              "    .dataframe tbody tr th {\n",
              "        vertical-align: top;\n",
              "    }\n",
              "\n",
              "    .dataframe thead th {\n",
              "        text-align: right;\n",
              "    }\n",
              "</style>\n",
              "<table border=\"1\" class=\"dataframe\">\n",
              "  <thead>\n",
              "    <tr style=\"text-align: right;\">\n",
              "      <th></th>\n",
              "      <th>historico-credito</th>\n",
              "      <th>endividamento</th>\n",
              "      <th>garantias</th>\n",
              "      <th>valor-solicitado</th>\n",
              "      <th>inadimplente</th>\n",
              "    </tr>\n",
              "  </thead>\n",
              "  <tbody>\n",
              "    <tr>\n",
              "      <th>0</th>\n",
              "      <td>Negativa</td>\n",
              "      <td>&gt; 30 %</td>\n",
              "      <td>Nao</td>\n",
              "      <td>&lt; 15000.00</td>\n",
              "      <td>Sim</td>\n",
              "    </tr>\n",
              "    <tr>\n",
              "      <th>1</th>\n",
              "      <td>Desconhecida</td>\n",
              "      <td>? 30 %</td>\n",
              "      <td>Nao</td>\n",
              "      <td>&gt; 15000 &lt; 35000</td>\n",
              "      <td>Sim</td>\n",
              "    </tr>\n",
              "    <tr>\n",
              "      <th>2</th>\n",
              "      <td>Desconhecida</td>\n",
              "      <td>&lt; 30 %</td>\n",
              "      <td>Nao</td>\n",
              "      <td>&gt; 15000 &lt; 35000</td>\n",
              "      <td>Sim</td>\n",
              "    </tr>\n",
              "    <tr>\n",
              "      <th>3</th>\n",
              "      <td>Desconhecida</td>\n",
              "      <td>&lt; 30 %</td>\n",
              "      <td>Nao</td>\n",
              "      <td>&gt; 35000.00</td>\n",
              "      <td>Sim</td>\n",
              "    </tr>\n",
              "    <tr>\n",
              "      <th>4</th>\n",
              "      <td>Desconhecida</td>\n",
              "      <td>&lt; 30 %</td>\n",
              "      <td>Nao</td>\n",
              "      <td>&gt; 35000.00</td>\n",
              "      <td>Nao</td>\n",
              "    </tr>\n",
              "  </tbody>\n",
              "</table>\n",
              "</div>"
            ],
            "text/plain": [
              "  historico-credito endividamento garantias valor-solicitado inadimplente\n",
              "0          Negativa        > 30 %       Nao       < 15000.00          Sim\n",
              "1      Desconhecida        ? 30 %       Nao  > 15000 < 35000          Sim\n",
              "2      Desconhecida        < 30 %       Nao  > 15000 < 35000          Sim\n",
              "3      Desconhecida        < 30 %       Nao       > 35000.00          Sim\n",
              "4      Desconhecida        < 30 %       Nao       > 35000.00          Nao"
            ]
          },
          "metadata": {
            "tags": []
          },
          "execution_count": 18
        }
      ]
    },
    {
      "cell_type": "markdown",
      "metadata": {
        "id": "ZiMFeh2Tha-2"
      },
      "source": [
        "# Etapa 2: preparar os dados"
      ]
    },
    {
      "cell_type": "code",
      "metadata": {
        "deletable": true,
        "editable": true,
        "id": "Emmj80bmha-3"
      },
      "source": [
        "def historico_to_numeric(x):\n",
        "    if x=='Negativa':\n",
        "        return 2\n",
        "    if x=='Desconhecida':\n",
        "        return 1\n",
        "    if x=='Positiva':\n",
        "        return 0\n",
        "# preparação personalizada\n",
        "dataset['historico-num'] = dataset['historico-credito'].apply(historico_to_numeric)"
      ],
      "execution_count": null,
      "outputs": []
    },
    {
      "cell_type": "code",
      "metadata": {
        "deletable": true,
        "editable": true,
        "id": "Lffgz-m4ha-5",
        "outputId": "80344e7c-2e3c-4be6-b196-97ab81d4f741",
        "colab": {
          "base_uri": "https://localhost:8080/",
          "height": 204
        }
      },
      "source": [
        "# usando replace\n",
        "dataset.replace({\"inadimplente\":{\"Sim\":1, \"Nao\":0},\n",
        "                 \"garantias\":{\"Sim\":1, \"Nao\":0},\n",
        "                 \"historico-credito\":{\"Negativa\":1, \"Desconhecida\":0, \"Positiva\":2}\n",
        "                },\n",
        "                inplace=True)\n",
        "dataset.head()\n",
        "\n"
      ],
      "execution_count": null,
      "outputs": [
        {
          "output_type": "execute_result",
          "data": {
            "text/html": [
              "<div>\n",
              "<style scoped>\n",
              "    .dataframe tbody tr th:only-of-type {\n",
              "        vertical-align: middle;\n",
              "    }\n",
              "\n",
              "    .dataframe tbody tr th {\n",
              "        vertical-align: top;\n",
              "    }\n",
              "\n",
              "    .dataframe thead th {\n",
              "        text-align: right;\n",
              "    }\n",
              "</style>\n",
              "<table border=\"1\" class=\"dataframe\">\n",
              "  <thead>\n",
              "    <tr style=\"text-align: right;\">\n",
              "      <th></th>\n",
              "      <th>historico-credito</th>\n",
              "      <th>endividamento</th>\n",
              "      <th>garantias</th>\n",
              "      <th>valor-solicitado</th>\n",
              "      <th>inadimplente</th>\n",
              "      <th>historico-num</th>\n",
              "    </tr>\n",
              "  </thead>\n",
              "  <tbody>\n",
              "    <tr>\n",
              "      <th>0</th>\n",
              "      <td>1</td>\n",
              "      <td>&gt; 30 %</td>\n",
              "      <td>0</td>\n",
              "      <td>&lt; 15000.00</td>\n",
              "      <td>1</td>\n",
              "      <td>2</td>\n",
              "    </tr>\n",
              "    <tr>\n",
              "      <th>1</th>\n",
              "      <td>0</td>\n",
              "      <td>? 30 %</td>\n",
              "      <td>0</td>\n",
              "      <td>&gt; 15000 &lt; 35000</td>\n",
              "      <td>1</td>\n",
              "      <td>1</td>\n",
              "    </tr>\n",
              "    <tr>\n",
              "      <th>2</th>\n",
              "      <td>0</td>\n",
              "      <td>&lt; 30 %</td>\n",
              "      <td>0</td>\n",
              "      <td>&gt; 15000 &lt; 35000</td>\n",
              "      <td>1</td>\n",
              "      <td>1</td>\n",
              "    </tr>\n",
              "    <tr>\n",
              "      <th>3</th>\n",
              "      <td>0</td>\n",
              "      <td>&lt; 30 %</td>\n",
              "      <td>0</td>\n",
              "      <td>&gt; 35000.00</td>\n",
              "      <td>1</td>\n",
              "      <td>1</td>\n",
              "    </tr>\n",
              "    <tr>\n",
              "      <th>4</th>\n",
              "      <td>0</td>\n",
              "      <td>&lt; 30 %</td>\n",
              "      <td>0</td>\n",
              "      <td>&gt; 35000.00</td>\n",
              "      <td>0</td>\n",
              "      <td>1</td>\n",
              "    </tr>\n",
              "  </tbody>\n",
              "</table>\n",
              "</div>"
            ],
            "text/plain": [
              "   historico-credito endividamento  ...  inadimplente historico-num\n",
              "0                  1        > 30 %  ...             1             2\n",
              "1                  0        ? 30 %  ...             1             1\n",
              "2                  0        < 30 %  ...             1             1\n",
              "3                  0        < 30 %  ...             1             1\n",
              "4                  0        < 30 %  ...             0             1\n",
              "\n",
              "[5 rows x 6 columns]"
            ]
          },
          "metadata": {
            "tags": []
          },
          "execution_count": 20
        }
      ]
    },
    {
      "cell_type": "markdown",
      "metadata": {
        "id": "-N3JKMgsiAVY"
      },
      "source": [
        "#tarefa alterar os campos endividamento e valor-solicitado para valores numéricos"
      ]
    },
    {
      "cell_type": "code",
      "metadata": {
        "id": "a8JU3WBfh_RW",
        "outputId": "a641b38d-3ec9-48a9-bcf5-3d8a675ba8d0",
        "colab": {
          "base_uri": "https://localhost:8080/",
          "height": 204
        }
      },
      "source": [
        "# fazer tarefa 1 aqui\n",
        "dataset.replace({\n",
        "    \"endividamento\":{\n",
        "        \"> 30 %\":1,\n",
        "        \"< 30 %\":0,\n",
        "        \"? 30 %\":2},\n",
        "    \"valor-solicitado\":{\n",
        "        \"< 15000.00\":1,\n",
        "        \"> 15000 < 35000\":2,\n",
        "        \"> 35000.00\":0}\n",
        "                },\n",
        "               inplace=True)\n",
        "dataset.head()"
      ],
      "execution_count": null,
      "outputs": [
        {
          "output_type": "execute_result",
          "data": {
            "text/html": [
              "<div>\n",
              "<style scoped>\n",
              "    .dataframe tbody tr th:only-of-type {\n",
              "        vertical-align: middle;\n",
              "    }\n",
              "\n",
              "    .dataframe tbody tr th {\n",
              "        vertical-align: top;\n",
              "    }\n",
              "\n",
              "    .dataframe thead th {\n",
              "        text-align: right;\n",
              "    }\n",
              "</style>\n",
              "<table border=\"1\" class=\"dataframe\">\n",
              "  <thead>\n",
              "    <tr style=\"text-align: right;\">\n",
              "      <th></th>\n",
              "      <th>historico-credito</th>\n",
              "      <th>endividamento</th>\n",
              "      <th>garantias</th>\n",
              "      <th>valor-solicitado</th>\n",
              "      <th>inadimplente</th>\n",
              "      <th>historico-num</th>\n",
              "    </tr>\n",
              "  </thead>\n",
              "  <tbody>\n",
              "    <tr>\n",
              "      <th>0</th>\n",
              "      <td>1</td>\n",
              "      <td>1</td>\n",
              "      <td>0</td>\n",
              "      <td>1</td>\n",
              "      <td>1</td>\n",
              "      <td>2</td>\n",
              "    </tr>\n",
              "    <tr>\n",
              "      <th>1</th>\n",
              "      <td>0</td>\n",
              "      <td>2</td>\n",
              "      <td>0</td>\n",
              "      <td>2</td>\n",
              "      <td>1</td>\n",
              "      <td>1</td>\n",
              "    </tr>\n",
              "    <tr>\n",
              "      <th>2</th>\n",
              "      <td>0</td>\n",
              "      <td>0</td>\n",
              "      <td>0</td>\n",
              "      <td>2</td>\n",
              "      <td>1</td>\n",
              "      <td>1</td>\n",
              "    </tr>\n",
              "    <tr>\n",
              "      <th>3</th>\n",
              "      <td>0</td>\n",
              "      <td>0</td>\n",
              "      <td>0</td>\n",
              "      <td>0</td>\n",
              "      <td>1</td>\n",
              "      <td>1</td>\n",
              "    </tr>\n",
              "    <tr>\n",
              "      <th>4</th>\n",
              "      <td>0</td>\n",
              "      <td>0</td>\n",
              "      <td>0</td>\n",
              "      <td>0</td>\n",
              "      <td>0</td>\n",
              "      <td>1</td>\n",
              "    </tr>\n",
              "  </tbody>\n",
              "</table>\n",
              "</div>"
            ],
            "text/plain": [
              "   historico-credito  endividamento  ...  inadimplente  historico-num\n",
              "0                  1              1  ...             1              2\n",
              "1                  0              2  ...             1              1\n",
              "2                  0              0  ...             1              1\n",
              "3                  0              0  ...             1              1\n",
              "4                  0              0  ...             0              1\n",
              "\n",
              "[5 rows x 6 columns]"
            ]
          },
          "metadata": {
            "tags": []
          },
          "execution_count": 22
        }
      ]
    },
    {
      "cell_type": "markdown",
      "metadata": {
        "id": "wBClFcaAha-8"
      },
      "source": [
        "# Extração das características"
      ]
    },
    {
      "cell_type": "code",
      "metadata": {
        "deletable": true,
        "editable": true,
        "id": "dWkG_3Pkha-9",
        "outputId": "fa82ae90-0686-431b-8a8a-acf759855801",
        "colab": {
          "base_uri": "https://localhost:8080/",
          "height": 204
        }
      },
      "source": [
        "caracteristicas = dataset[['historico-credito', 'garantias','endividamento', 'valor-solicitado']]\n",
        "classes = dataset['inadimplente']\n",
        "caracteristicas.head()"
      ],
      "execution_count": null,
      "outputs": [
        {
          "output_type": "execute_result",
          "data": {
            "text/html": [
              "<div>\n",
              "<style scoped>\n",
              "    .dataframe tbody tr th:only-of-type {\n",
              "        vertical-align: middle;\n",
              "    }\n",
              "\n",
              "    .dataframe tbody tr th {\n",
              "        vertical-align: top;\n",
              "    }\n",
              "\n",
              "    .dataframe thead th {\n",
              "        text-align: right;\n",
              "    }\n",
              "</style>\n",
              "<table border=\"1\" class=\"dataframe\">\n",
              "  <thead>\n",
              "    <tr style=\"text-align: right;\">\n",
              "      <th></th>\n",
              "      <th>historico-credito</th>\n",
              "      <th>garantias</th>\n",
              "      <th>endividamento</th>\n",
              "      <th>valor-solicitado</th>\n",
              "    </tr>\n",
              "  </thead>\n",
              "  <tbody>\n",
              "    <tr>\n",
              "      <th>0</th>\n",
              "      <td>1</td>\n",
              "      <td>0</td>\n",
              "      <td>1</td>\n",
              "      <td>1</td>\n",
              "    </tr>\n",
              "    <tr>\n",
              "      <th>1</th>\n",
              "      <td>0</td>\n",
              "      <td>0</td>\n",
              "      <td>2</td>\n",
              "      <td>2</td>\n",
              "    </tr>\n",
              "    <tr>\n",
              "      <th>2</th>\n",
              "      <td>0</td>\n",
              "      <td>0</td>\n",
              "      <td>0</td>\n",
              "      <td>2</td>\n",
              "    </tr>\n",
              "    <tr>\n",
              "      <th>3</th>\n",
              "      <td>0</td>\n",
              "      <td>0</td>\n",
              "      <td>0</td>\n",
              "      <td>0</td>\n",
              "    </tr>\n",
              "    <tr>\n",
              "      <th>4</th>\n",
              "      <td>0</td>\n",
              "      <td>0</td>\n",
              "      <td>0</td>\n",
              "      <td>0</td>\n",
              "    </tr>\n",
              "  </tbody>\n",
              "</table>\n",
              "</div>"
            ],
            "text/plain": [
              "   historico-credito  garantias  endividamento  valor-solicitado\n",
              "0                  1          0              1                 1\n",
              "1                  0          0              2                 2\n",
              "2                  0          0              0                 2\n",
              "3                  0          0              0                 0\n",
              "4                  0          0              0                 0"
            ]
          },
          "metadata": {
            "tags": []
          },
          "execution_count": 35
        }
      ]
    },
    {
      "cell_type": "markdown",
      "metadata": {
        "id": "AMpe4p3Iha_A"
      },
      "source": [
        "# treinando o modelo"
      ]
    },
    {
      "cell_type": "code",
      "metadata": {
        "id": "J_U390fBha_C",
        "outputId": "c6028ac2-0a62-4d26-e0d0-895f775de292",
        "colab": {
          "base_uri": "https://localhost:8080/",
          "height": 34
        }
      },
      "source": [
        "modelo = MultinomialNB()\n",
        "modelo.fit(caracteristicas,classes)"
      ],
      "execution_count": null,
      "outputs": [
        {
          "output_type": "execute_result",
          "data": {
            "text/plain": [
              "MultinomialNB(alpha=1.0, class_prior=None, fit_prior=True)"
            ]
          },
          "metadata": {
            "tags": []
          },
          "execution_count": 36
        }
      ]
    },
    {
      "cell_type": "code",
      "metadata": {
        "id": "EIEpUoAnha_G"
      },
      "source": [
        "# Aplicar o modelo a uma nova amostra"
      ],
      "execution_count": null,
      "outputs": []
    },
    {
      "cell_type": "code",
      "metadata": {
        "id": "ztNFz4Rcha_J",
        "outputId": "9d038c30-3d81-432a-8fbf-124fb125a784",
        "colab": {
          "base_uri": "https://localhost:8080/",
          "height": 34
        }
      },
      "source": [
        "novocontrato = pd.DataFrame([[1, 0]],\n",
        "                             columns=['historico-credito', 'garantias'])\n",
        "saida = modelo.predict(novocontrato)\n",
        "print(saida)"
      ],
      "execution_count": null,
      "outputs": [
        {
          "output_type": "stream",
          "text": [
            "[1]\n"
          ],
          "name": "stdout"
        }
      ]
    },
    {
      "cell_type": "markdown",
      "metadata": {
        "id": "OaBG4_74k3i5"
      },
      "source": [
        "#tarefa: medir o indice de acerto\n",
        "\n",
        "Realizar a predição em todos os dados utilizados no treinamento do modelo e verificar qual o indice de acerto do modelo criado.\n",
        "- Saida prevista = saida real (acerto)\n",
        "- Saida prevista != saida real (erro)"
      ]
    },
    {
      "cell_type": "code",
      "metadata": {
        "id": "bB9T7D6olVFT",
        "outputId": "a3629b36-bbf8-425f-af36-878efadfc900",
        "colab": {
          "base_uri": "https://localhost:8080/",
          "height": 51
        }
      },
      "source": [
        "# fazer tarefa 2 aqui\n",
        "acertou = 0\n",
        "errou = 0\n",
        "for i in range(0,13):\n",
        "  novocontrato = caracteristicas.iloc[i]\n",
        "  dados = pd.DataFrame([novocontrato], ['historico-credito', 'garantias','endividamento', 'valor-solicitado'])\n",
        "  saida = modelo.predict(dados)\n",
        "  if saida[0] == classes.iloc[i]:\n",
        "    acertou = acertou + 1\n",
        "  else:\n",
        "    errou = errou + 1\n",
        "\n",
        "\n",
        "print (acertou)\n",
        "print (errou)\n"
      ],
      "execution_count": null,
      "outputs": [
        {
          "output_type": "stream",
          "text": [
            "10\n",
            "3\n"
          ],
          "name": "stdout"
        }
      ]
    }
  ]
}