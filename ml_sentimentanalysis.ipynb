{
  "nbformat": 4,
  "nbformat_minor": 0,
  "metadata": {
    "kernelspec": {
      "display_name": "Python 3",
      "language": "python",
      "name": "python3"
    },
    "language_info": {
      "codemirror_mode": {
        "name": "ipython",
        "version": 3
      },
      "file_extension": ".py",
      "mimetype": "text/x-python",
      "name": "python",
      "nbconvert_exporter": "python",
      "pygments_lexer": "ipython3",
      "version": "3.5.2"
    },
    "colab": {
      "provenance": [],
      "include_colab_link": true
    }
  },
  "cells": [
    {
      "cell_type": "markdown",
      "metadata": {
        "id": "view-in-github",
        "colab_type": "text"
      },
      "source": [
        "<a href=\"https://colab.research.google.com/github/phgallop/pyLearn/blob/main/ml_sentimentanalysis.ipynb\" target=\"_parent\"><img src=\"https://colab.research.google.com/assets/colab-badge.svg\" alt=\"Open In Colab\"/></a>"
      ]
    },
    {
      "cell_type": "markdown",
      "metadata": {
        "id": "edp9jHzMEQVs"
      },
      "source": [
        "# Referência\n",
        "Exemplo adaptado de https://github.com/minerandodados/mdrepo"
      ]
    },
    {
      "cell_type": "code",
      "metadata": {
        "id": "VJxC3nXjEQWH"
      },
      "source": [
        "from sklearn.feature_extraction.text import CountVectorizer\n",
        "from sklearn.model_selection import cross_val_predict\n",
        "from sklearn.tree import DecisionTreeClassifier\n",
        "from sklearn.naive_bayes import MultinomialNB\n",
        "from sklearn.svm import SVC\n",
        "from sklearn import metrics\n",
        "from sklearn import tree\n",
        "import pandas as pd\n"
      ],
      "execution_count": null,
      "outputs": []
    },
    {
      "cell_type": "markdown",
      "metadata": {
        "id": "4N6-CRNjEQWR"
      },
      "source": [
        "# Etapa 1: lendo o arquivo\n",
        "Realizando a leitura do arquivo https://github.com/minerandodados/mdrepo/raw/master/Tweets_Mg.csv\n",
        "e imprimindo a quantidade de registros do arquivo"
      ]
    },
    {
      "cell_type": "code",
      "metadata": {
        "id": "r4PgH4u1EQWT",
        "outputId": "3e166ba3-422d-48ee-cefb-ae174a0f6143",
        "colab": {
          "base_uri": "https://localhost:8080/",
          "height": 513
        }
      },
      "source": [
        "dataset = pd.read_csv('https://github.com/minerandodados/mdrepo/raw/master/Tweets_Mg.csv')\n",
        "print(dataset.count())"
      ],
      "execution_count": null,
      "outputs": [
        {
          "output_type": "stream",
          "text": [
            "Unnamed: 0                   8199\n",
            "Created At                   8199\n",
            "Text                         8199\n",
            "Geo Coordinates.latitude      104\n",
            "Geo Coordinates.longitude     104\n",
            "User Location                5489\n",
            "Username                     8199\n",
            "User Screen Name             8199\n",
            "Retweet Count                8199\n",
            "Classificacao                8199\n",
            "Observação                      1\n",
            "Unnamed: 10                     0\n",
            "Unnamed: 11                     0\n",
            "Unnamed: 12                     0\n",
            "Unnamed: 13                     0\n",
            "Unnamed: 14                     0\n",
            "Unnamed: 15                     0\n",
            "Unnamed: 16                     0\n",
            "Unnamed: 17                     0\n",
            "Unnamed: 18                     0\n",
            "Unnamed: 19                     0\n",
            "Unnamed: 20                     0\n",
            "Unnamed: 21                     0\n",
            "Unnamed: 22                     0\n",
            "Unnamed: 23                     0\n",
            "Unnamed: 24                     0\n",
            "dtype: int64\n"
          ],
          "name": "stdout"
        }
      ]
    },
    {
      "cell_type": "markdown",
      "metadata": {
        "id": "Puvsi3WXEQWd"
      },
      "source": [
        "# Etapa 2: separando as características das saidas\n",
        "separando as colunas da saida"
      ]
    },
    {
      "cell_type": "code",
      "metadata": {
        "id": "Nh7vmTsVEQWe"
      },
      "source": [
        "tweets = dataset['Text'].values\n",
        "classes = dataset['Classificacao'].values"
      ],
      "execution_count": null,
      "outputs": []
    },
    {
      "cell_type": "markdown",
      "metadata": {
        "id": "x0ixUN-vEQWk"
      },
      "source": [
        "# Etapa 3: extraindo as características\n"
      ]
    },
    {
      "cell_type": "code",
      "metadata": {
        "id": "aBjrdaA7EQWu"
      },
      "source": [
        "vectorizer = CountVectorizer(analyzer=\"word\")\n",
        "freq_tweets = vectorizer.fit_transform(tweets)"
      ],
      "execution_count": null,
      "outputs": []
    },
    {
      "cell_type": "markdown",
      "metadata": {
        "id": "3UpIrEm_EQWz"
      },
      "source": [
        "# Etapa 4: Criando a base de teste"
      ]
    },
    {
      "cell_type": "code",
      "metadata": {
        "id": "bYA6AQ1JGs4v"
      },
      "source": [
        "from sklearn.model_selection import train_test_split\n",
        "\n",
        "# 40/60\n",
        "x60_train, x60_test, y60_train, y60_test = train_test_split(freq_tweets, classes, test_size=0.60, random_state=42)\n",
        "# 60/40\n",
        "x40_train, x40_test, y40_train, y40_test = train_test_split(freq_tweets, classes, test_size=0.40, random_state=42)\n",
        "# 70/30\n",
        "x30_train, x30_test, y30_train, y30_test = train_test_split(freq_tweets, classes, test_size=0.30, random_state=42)"
      ],
      "execution_count": null,
      "outputs": []
    },
    {
      "cell_type": "markdown",
      "metadata": {
        "id": "ISoZts5HG5tT"
      },
      "source": [
        "\n",
        "#Etapa 5: Treinando o modelo"
      ]
    },
    {
      "cell_type": "code",
      "metadata": {
        "id": "czPFqOvCEQXR",
        "outputId": "76bfe9d5-8b82-410a-c68b-9878126a23ae",
        "colab": {
          "base_uri": "https://localhost:8080/",
          "height": 147
        }
      },
      "source": [
        "modeloBayes = MultinomialNB()\n",
        "modeloBayes60 = modeloBayes.fit(x60_train, y60_train)\n",
        "modeloBayes40 = modeloBayes.fit(x40_train, y40_train)\n",
        "modeloBayes30 = modeloBayes.fit(x30_train, y30_train)\n",
        "\n",
        "modeloArvore = DecisionTreeClassifier()\n",
        "modeloArvore60 = modeloArvore.fit(x60_train, y60_train)\n",
        "modeloArvore40 = modeloArvore.fit(x40_train, y40_train)\n",
        "modeloArvore30 = modeloArvore.fit(x30_train, y30_train)\n",
        "\n",
        "\n",
        "modeloSvc = SVC()\n",
        "modeloSvc60 = modeloSvc.fit(x60_train, y60_train)\n",
        "modeloSvc40 = modeloSvc.fit(x40_train, y40_train)\n",
        "modeloSvc30 = modeloSvc.fit(x30_train, y30_train)\n"
      ],
      "execution_count": null,
      "outputs": [
        {
          "output_type": "stream",
          "text": [
            "/usr/local/lib/python3.6/dist-packages/sklearn/svm/base.py:193: FutureWarning: The default value of gamma will change from 'auto' to 'scale' in version 0.22 to account better for unscaled features. Set gamma explicitly to 'auto' or 'scale' to avoid this warning.\n",
            "  \"avoid this warning.\", FutureWarning)\n",
            "/usr/local/lib/python3.6/dist-packages/sklearn/svm/base.py:193: FutureWarning: The default value of gamma will change from 'auto' to 'scale' in version 0.22 to account better for unscaled features. Set gamma explicitly to 'auto' or 'scale' to avoid this warning.\n",
            "  \"avoid this warning.\", FutureWarning)\n",
            "/usr/local/lib/python3.6/dist-packages/sklearn/svm/base.py:193: FutureWarning: The default value of gamma will change from 'auto' to 'scale' in version 0.22 to account better for unscaled features. Set gamma explicitly to 'auto' or 'scale' to avoid this warning.\n",
            "  \"avoid this warning.\", FutureWarning)\n"
          ],
          "name": "stderr"
        }
      ]
    },
    {
      "cell_type": "markdown",
      "metadata": {
        "id": "RVUT_ecbEQXZ"
      },
      "source": [
        "# Etapa 5: realizando o teste do classificador"
      ]
    },
    {
      "cell_type": "code",
      "metadata": {
        "id": "7IDWJTWAEQXa",
        "outputId": "826f3542-3530-4fa5-fa69-f828d1f97133",
        "colab": {
          "base_uri": "https://localhost:8080/",
          "height": 237
        }
      },
      "source": [
        "print('BAYES')\n",
        "modeloBayes60y_predict = modeloBayes60.predict(x60_test)\n",
        "modeloBayes40y_predict = modeloBayes40.predict(x40_test)\n",
        "modeloBayes30y_predict = modeloBayes30.predict(x30_test)\n",
        "print(modeloBayes60y_predict)\n",
        "print(modeloBayes40y_predict)\n",
        "print(modeloBayes30y_predict)\n",
        "\n",
        "print('ARVORE DE DECISAO')\n",
        "modeloArvore60y_predict = modeloArvore60.predict(x60_test)\n",
        "modeloArvore40y_predict = modeloArvore40.predict(x40_test)\n",
        "modeloArvore30y_predict = modeloArvore30.predict(x30_test)\n",
        "print(modeloArvore60y_predict)\n",
        "print(modeloArvore40y_predict)\n",
        "print(modeloArvore30y_predict)\n",
        "\n",
        "print('SVC')\n",
        "modeloSvc60y_predict = modeloSvc60.predict(x60_test)\n",
        "modeloSvc40y_predict = modeloSvc40.predict(x40_test)\n",
        "modeloSvc30y_predict = modeloSvc30.predict(x30_test)\n",
        "print(modeloSvc60y_predict)\n",
        "print(modeloSvc40y_predict)\n",
        "print(modeloSvc30y_predict)\n"
      ],
      "execution_count": null,
      "outputs": [
        {
          "output_type": "stream",
          "text": [
            "BAYES\n",
            "['Negativo' 'Neutro' 'Positivo' ... 'Positivo' 'Negativo' 'Negativo']\n",
            "['Negativo' 'Neutro' 'Positivo' ... 'Neutro' 'Neutro' 'Positivo']\n",
            "['Negativo' 'Neutro' 'Positivo' ... 'Neutro' 'Neutro' 'Positivo']\n",
            "ARVORE DE DECISAO\n",
            "['Negativo' 'Neutro' 'Positivo' ... 'Positivo' 'Negativo' 'Negativo']\n",
            "['Negativo' 'Neutro' 'Positivo' ... 'Neutro' 'Neutro' 'Positivo']\n",
            "['Negativo' 'Neutro' 'Positivo' ... 'Neutro' 'Neutro' 'Positivo']\n",
            "SVC\n",
            "['Positivo' 'Positivo' 'Positivo' ... 'Positivo' 'Positivo' 'Positivo']\n",
            "['Positivo' 'Positivo' 'Positivo' ... 'Positivo' 'Positivo' 'Positivo']\n",
            "['Positivo' 'Positivo' 'Positivo' ... 'Positivo' 'Positivo' 'Positivo']\n"
          ],
          "name": "stdout"
        }
      ]
    },
    {
      "cell_type": "code",
      "metadata": {
        "id": "rsJCVsf1EQXg",
        "outputId": "a35b5ca9-5172-4ec2-ad27-7989d3026aab",
        "colab": {
          "base_uri": "https://localhost:8080/",
          "height": 1000
        }
      },
      "source": [
        "from sklearn.metrics import accuracy_score\n",
        "from sklearn.metrics import confusion_matrix\n",
        "\n",
        "# NAIVE BAYES\n",
        "print('NAIVE BAYES')\n",
        "print('-------------------------------------------------------------')\n",
        "print('TESTE COM 60% DOS DADOS')\n",
        "print('acuracia:')\n",
        "bayesAcuracia60 = accuracy_score(y60_test, modeloBayes60y_predict)\n",
        "print(bayesAcuracia60)\n",
        "accuracy_score(y60_test, modeloBayes60y_predict)\n",
        "matrix60 =confusion_matrix(y60_test, modeloBayes60y_predict)\n",
        "print('matriz:')\n",
        "print (matrix60)\n",
        "\n",
        "print('TESTE COM 40% DOS DADOS')\n",
        "print('acuracia:')\n",
        "bayesAcuracia40 = accuracy_score(y40_test, modeloBayes40y_predict)\n",
        "print(bayesAcuracia40)\n",
        "accuracy_score(y40_test, modeloBayes40y_predict)\n",
        "matrix40 = confusion_matrix(y40_test, modeloBayes40y_predict)\n",
        "print('matriz:')\n",
        "print(matrix40)\n",
        "\n",
        "print('TESTE COM 30% DOS DADOS')\n",
        "print('acuracia:')\n",
        "bayesAcuracia30= accuracy_score(y30_test, modeloBayes30y_predict)\n",
        "print(bayesAcuracia30)\n",
        "accuracy_score(y30_test, modeloBayes30y_predict)\n",
        "matrix30 = confusion_matrix(y30_test, modeloBayes30y_predict)\n",
        "print('matriz:')\n",
        "print(matrix30)\n",
        "print('#############################################################')\n",
        "\n",
        "# ARVORE DE DECISAO\n",
        "print('ARVORE DE DECISAO')\n",
        "print('-------------------------------------------------------------')\n",
        "print('TESTE COM 60% DOS DADOS')\n",
        "print('acuracia:')\n",
        "arvoreAcuracia60 = accuracy_score(y60_test, modeloArvore60y_predict)\n",
        "print(arvoreAcuracia60)\n",
        "accuracy_score(y60_test, modeloArvore60y_predict)\n",
        "matrix60 =confusion_matrix(y60_test, modeloArvore60y_predict)\n",
        "print('matriz:')\n",
        "print (matrix60)\n",
        "\n",
        "print('TESTE COM 40% DOS DADOS')\n",
        "print('acuracia:')\n",
        "arvoreAcuracia40 = accuracy_score(y40_test, modeloArvore40y_predict)\n",
        "print(arvoreAcuracia40)\n",
        "accuracy_score(y40_test, modeloArvore40y_predict)\n",
        "matrix40 = confusion_matrix(y40_test, modeloArvore40y_predict)\n",
        "print('matriz:')\n",
        "print(matrix40)\n",
        "\n",
        "print('TESTE COM 30% DOS DADOS')\n",
        "print('acuracia:')\n",
        "arvoreAcuracia30= accuracy_score(y30_test, modeloArvore30y_predict)\n",
        "print(arvoreAcuracia30)\n",
        "accuracy_score(y30_test, modeloArvore30y_predict)\n",
        "matrix30 = confusion_matrix(y30_test, modeloArvore30y_predict)\n",
        "print('matriz:')\n",
        "print(matrix30)\n",
        "print('-------------------------------------------------------------')\n",
        "print('#############################################################')\n",
        "\n",
        "# SVC\n",
        "print('SVC')\n",
        "print('-------------------------------------------------------------')\n",
        "print('TESTE COM 60% DOS DADOS')\n",
        "print('acuracia:')\n",
        "arvoreAcuracia60 = accuracy_score(y60_test, modeloSvc60y_predict)\n",
        "print(arvoreAcuracia60)\n",
        "accuracy_score(y60_test, modeloSvc60y_predict)\n",
        "matrix60 =confusion_matrix(y60_test, modeloSvc60y_predict)\n",
        "print('matriz:')\n",
        "print (matrix60)\n",
        "\n",
        "print('TESTE COM 40% DOS DADOS')\n",
        "print('acuracia:')\n",
        "arvoreAcuracia40 = accuracy_score(y40_test, modeloSvc40y_predict)\n",
        "print(arvoreAcuracia40)\n",
        "accuracy_score(y40_test, modeloSvc40y_predict)\n",
        "matrix40 = confusion_matrix(y40_test, modeloSvc40y_predict)\n",
        "print('matriz:')\n",
        "print(matrix40)\n",
        "\n",
        "print('TESTE COM 30% DOS DADOS')\n",
        "print('acuracia:')\n",
        "arvoreAcuracia30= accuracy_score(y30_test, modeloSvc30y_predict)\n",
        "print(arvoreAcuracia30)\n",
        "matrix30 = confusion_matrix(y30_test, modeloSvc30y_predict)\n",
        "print('matriz:')\n",
        "print(matrix30)\n",
        "\n",
        "print(matrix30[2,1])\n",
        "# sensibilidade = matrix30[0,0]/(matrix30[0,0]+(matrix30[0,1]+)\n",
        "# print('sensibilidade : ', sensitivity1 )\n",
        "\n",
        "# specificity1 = cm1[1,1]/(cm1[1,0]+cm1[1,1])\n",
        "# print('Specificity : ', specificity1)\n",
        "\n",
        "print('#############################################################')"
      ],
      "execution_count": null,
      "outputs": [
        {
          "output_type": "stream",
          "text": [
            "NAIVE BAYES\n",
            "-------------------------------------------------------------\n",
            "TESTE COM 60% DOS DADOS\n",
            "acuracia:\n",
            "0.9634146341463414\n",
            "matriz:\n",
            "[[1419   33    6]\n",
            " [  51 1392   44]\n",
            " [   3   43 1929]]\n",
            "TESTE COM 40% DOS DADOS\n",
            "acuracia:\n",
            "0.9579268292682926\n",
            "matriz:\n",
            "[[ 932   27    4]\n",
            " [  35  935   35]\n",
            " [   2   35 1275]]\n",
            "TESTE COM 30% DOS DADOS\n",
            "acuracia:\n",
            "0.9520325203252032\n",
            "matriz:\n",
            "[[694  25   3]\n",
            " [ 26 700  32]\n",
            " [  1  31 948]]\n",
            "#############################################################\n",
            "ARVORE DE DECISAO\n",
            "-------------------------------------------------------------\n",
            "TESTE COM 60% DOS DADOS\n",
            "acuracia:\n",
            "0.9745934959349594\n",
            "matriz:\n",
            "[[1415   37    6]\n",
            " [  22 1437   28]\n",
            " [   5   27 1943]]\n",
            "TESTE COM 40% DOS DADOS\n",
            "acuracia:\n",
            "0.9621951219512195\n",
            "matriz:\n",
            "[[ 920   37    6]\n",
            " [  22  955   28]\n",
            " [   5   26 1281]]\n",
            "TESTE COM 30% DOS DADOS\n",
            "acuracia:\n",
            "0.9495934959349593\n",
            "matriz:\n",
            "[[679  37   6]\n",
            " [ 22 708  28]\n",
            " [  5  26 949]]\n",
            "-------------------------------------------------------------\n",
            "#############################################################\n",
            "SVC\n",
            "-------------------------------------------------------------\n",
            "TESTE COM 60% DOS DADOS\n",
            "acuracia:\n",
            "0.49817073170731707\n",
            "matriz:\n",
            "[[ 476    0  982]\n",
            " [   1    0 1486]\n",
            " [   0    0 1975]]\n",
            "TESTE COM 40% DOS DADOS\n",
            "acuracia:\n",
            "0.4969512195121951\n",
            "matriz:\n",
            "[[ 318    0  645]\n",
            " [   1    0 1004]\n",
            " [   0    0 1312]]\n",
            "TESTE COM 30% DOS DADOS\n",
            "acuracia:\n",
            "0.49146341463414633\n",
            "matriz:\n",
            "[[229   0 493]\n",
            " [  0   0 758]\n",
            " [  0   0 980]]\n",
            "0\n",
            "#############################################################\n"
          ],
          "name": "stdout"
        }
      ]
    }
  ]
}